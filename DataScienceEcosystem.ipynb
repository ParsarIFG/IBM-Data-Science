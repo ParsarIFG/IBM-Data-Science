{
 "cells": [
  {
   "cell_type": "markdown",
   "id": "ea10d50e-7760-45e4-996a-843500da44a7",
   "metadata": {},
   "source": [
    "# Data Science Tools and Ecosystem"
   ]
  },
  {
   "cell_type": "markdown",
   "id": "945c0780-6653-4437-8ec8-18c90a0c4c8c",
   "metadata": {},
   "source": [
    "## Introduction\n",
    "In this notebook, Data Science Tools and Ecosystem are summarized."
   ]
  },
  {
   "cell_type": "markdown",
   "id": "8d60401b-7aa5-41f5-8713-3ca5a4e0b0d5",
   "metadata": {},
   "source": [
    "### Some of the popular languages that Data Scientists use are:\n",
    "1. Python\n",
    "2. R\n",
    "3. SQL"
   ]
  },
  {
   "cell_type": "markdown",
   "id": "ff6319b6-71ae-4c20-a306-7658d66fcf31",
   "metadata": {},
   "source": [
    "## Some of the commonly used libraries used by Data Scientists include:\n",
    "1. Pandas\n",
    "2. NumPy\n",
    "3. Matplotlib\n",
    "4. GGPLOT"
   ]
  },
  {
   "cell_type": "markdown",
   "id": "adf8cb16-3ea8-4efc-be75-951155ba15f5",
   "metadata": {},
   "source": [
    "|Data Science Tools|\n",
    "|------------------|\n",
    "|Python|\n",
    "|R|\n",
    "|Julia|"
   ]
  },
  {
   "cell_type": "markdown",
   "id": "bb63fcfb-945b-4640-a291-d36377c1dcc4",
   "metadata": {},
   "source": [
    "### Below are a few examples of evaluating arithmetic expressions in Python:\n"
   ]
  },
  {
   "cell_type": "code",
   "execution_count": 5,
   "id": "354f1b34-c129-498c-819e-d417a59cf791",
   "metadata": {},
   "outputs": [
    {
     "data": {
      "text/plain": [
       "17"
      ]
     },
     "execution_count": 5,
     "metadata": {},
     "output_type": "execute_result"
    }
   ],
   "source": [
    "#This a simple arithmetic expression to mutiply then add integers\n",
    "(3 * 4) + 5"
   ]
  },
  {
   "cell_type": "code",
   "execution_count": 6,
   "id": "436038cb-f524-4821-a40c-d886dbad61ef",
   "metadata": {},
   "outputs": [
    {
     "data": {
      "text/plain": [
       "3"
      ]
     },
     "execution_count": 6,
     "metadata": {},
     "output_type": "execute_result"
    }
   ],
   "source": [
    "#This will convert 200 minutes to hours by diving by 60\n",
    "200 // 60"
   ]
  },
  {
   "cell_type": "markdown",
   "id": "305a6366-0c1f-4750-ab6a-8c89a39ab9ec",
   "metadata": {},
   "source": [
    "**Objectives:**\n",
    "+ Data type\n",
    "+ R\n",
    "+ Python\n",
    "+ SQL and NoSQL"
   ]
  },
  {
   "cell_type": "markdown",
   "id": "209ec698-86a4-47e6-b3bc-fccec6b72e10",
   "metadata": {},
   "source": [
    "## author:\n",
    "Parsa"
   ]
  },
  {
   "cell_type": "code",
   "execution_count": null,
   "id": "8718a1bb-9943-447f-bf98-59c7095f77a0",
   "metadata": {},
   "outputs": [],
   "source": []
  }
 ],
 "metadata": {
  "kernelspec": {
   "display_name": "Python 3 (ipykernel)",
   "language": "python",
   "name": "python3"
  },
  "language_info": {
   "codemirror_mode": {
    "name": "ipython",
    "version": 3
   },
   "file_extension": ".py",
   "mimetype": "text/x-python",
   "name": "python",
   "nbconvert_exporter": "python",
   "pygments_lexer": "ipython3",
   "version": "3.12.7"
  }
 },
 "nbformat": 4,
 "nbformat_minor": 5
}
